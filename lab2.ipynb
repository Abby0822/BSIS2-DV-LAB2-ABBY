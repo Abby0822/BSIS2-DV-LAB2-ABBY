{
  "nbformat": 4,
  "nbformat_minor": 0,
  "metadata": {
    "colab": {
      "provenance": [],
      "authorship_tag": "ABX9TyMWF9DLhkS1gQfOsqgMLSAY",
      "include_colab_link": true
    },
    "kernelspec": {
      "name": "python3",
      "display_name": "Python 3"
    },
    "language_info": {
      "name": "python"
    }
  },
  "cells": [
    {
      "cell_type": "markdown",
      "metadata": {
        "id": "view-in-github",
        "colab_type": "text"
      },
      "source": [
        "<a href=\"https://colab.research.google.com/github/Abby0822/BSIS2-DV-LAB2-ABBY/blob/BSIS2-DV-LAB1-ABBY/lab2.ipynb\" target=\"_parent\"><img src=\"https://colab.research.google.com/assets/colab-badge.svg\" alt=\"Open In Colab\"/></a>"
      ]
    },
    {
      "cell_type": "code",
      "source": [
        "print('Enter the first number:')\n",
        "a = float(input ())\n",
        "print('Enter the second number:')\n",
        "b = float(input())\n",
        "\n",
        "sumab = (a) + (b)\n",
        "diffab = (a) - (b)\n",
        "prodab = (a) * (b)\n",
        "quoab = (a) / (b)\n",
        "expoab = (a) ** (b)\n",
        "divab = (a) // (b)\n",
        "remaaby = (a) % (b)\n",
        "\n",
        "print('Sum:' , a, '+' , b, '=', sumab)\n",
        "print('Difference:' , a, '-' , b, '=', diffab)\n",
        "print('Product:' , a, '*' , b, '=', prodab)\n",
        "print('Power:' , a, '^' , b, '=', expoab)\n",
        "print('Division with remainder:' , a, '/' , b, '=', divab)\n",
        "print('Remainder:' , remaab)"
      ],
      "metadata": {
        "id": "NPr0lp8Cq2dj",
        "colab": {
          "base_uri": "https://localhost:8080/"
        },
        "outputId": "ce988c10-8234-4615-f697-ee39371c5a05"
      },
      "execution_count": null,
      "outputs": [
        {
          "output_type": "stream",
          "name": "stdout",
          "text": [
            "Enter the first number:\n"
          ]
        }
      ]
    }
  ]
}